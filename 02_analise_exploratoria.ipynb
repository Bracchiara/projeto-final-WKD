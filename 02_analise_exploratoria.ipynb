{
 "cells": [
  {
   "cell_type": "code",
   "execution_count": 1,
   "id": "d9f88773",
   "metadata": {},
   "outputs": [],
   "source": [
    "import pandas as pd\n",
    "import seaborn as sns\n",
    "import matplotlib.pyplot as plt"
   ]
  },
  {
   "cell_type": "code",
   "execution_count": 2,
   "id": "88d1dde0",
   "metadata": {},
   "outputs": [
    {
     "data": {
      "application/vnd.microsoft.datawrangler.viewer.v0+json": {
       "columns": [
        {
         "name": "index",
         "rawType": "int64",
         "type": "integer"
        },
        {
         "name": "Duracao",
         "rawType": "int64",
         "type": "integer"
        },
        {
         "name": "HistoricoCredito",
         "rawType": "int64",
         "type": "integer"
        },
        {
         "name": "Proposito",
         "rawType": "int64",
         "type": "integer"
        },
        {
         "name": "Valor",
         "rawType": "int64",
         "type": "integer"
        },
        {
         "name": "Investimentos",
         "rawType": "int64",
         "type": "integer"
        },
        {
         "name": "Emprego",
         "rawType": "int64",
         "type": "integer"
        },
        {
         "name": "TempoParcelamento",
         "rawType": "int64",
         "type": "integer"
        },
        {
         "name": "EstadoCivil",
         "rawType": "int64",
         "type": "integer"
        },
        {
         "name": "FiadorTerceiros",
         "rawType": "int64",
         "type": "integer"
        },
        {
         "name": "ResidenciaDesde",
         "rawType": "int64",
         "type": "integer"
        },
        {
         "name": "Idade",
         "rawType": "int64",
         "type": "integer"
        },
        {
         "name": "OutrosFinanciamentos",
         "rawType": "int64",
         "type": "integer"
        },
        {
         "name": "Habitacao",
         "rawType": "int64",
         "type": "integer"
        },
        {
         "name": "EmprestimoExistente",
         "rawType": "int64",
         "type": "integer"
        },
        {
         "name": "Profissao",
         "rawType": "int64",
         "type": "integer"
        },
        {
         "name": "Dependentes",
         "rawType": "int64",
         "type": "integer"
        },
        {
         "name": "SocioEmpresa",
         "rawType": "int64",
         "type": "integer"
        },
        {
         "name": "Estrangeiro",
         "rawType": "int64",
         "type": "integer"
        },
        {
         "name": "Status",
         "rawType": "int64",
         "type": "integer"
        }
       ],
       "conversionMethod": "pd.DataFrame",
       "ref": "6261f3c7-549b-4cf9-8715-5d0b3a6c1787",
       "rows": [
        [
         "0",
         "48",
         "2",
         "1",
         "5951",
         "2",
         "3",
         "2",
         "1",
         "3",
         "2",
         "22",
         "3",
         "1",
         "1",
         "4",
         "1",
         "0",
         "0",
         "0"
        ],
        [
         "1",
         "12",
         "1",
         "2",
         "2096",
         "2",
         "4",
         "2",
         "4",
         "3",
         "3",
         "49",
         "3",
         "1",
         "1",
         "3",
         "2",
         "0",
         "0",
         "1"
        ],
        [
         "2",
         "42",
         "2",
         "3",
         "7882",
         "2",
         "4",
         "2",
         "4",
         "4",
         "4",
         "45",
         "3",
         "2",
         "1",
         "4",
         "2",
         "0",
         "0",
         "1"
        ],
        [
         "3",
         "24",
         "3",
         "4",
         "4870",
         "2",
         "3",
         "3",
         "4",
         "3",
         "4",
         "53",
         "3",
         "2",
         "2",
         "4",
         "2",
         "0",
         "0",
         "0"
        ],
        [
         "4",
         "36",
         "2",
         "2",
         "9055",
         "1",
         "3",
         "2",
         "4",
         "3",
         "4",
         "35",
         "3",
         "2",
         "1",
         "3",
         "2",
         "1",
         "0",
         "1"
        ]
       ],
       "shape": {
        "columns": 19,
        "rows": 5
       }
      },
      "text/html": [
       "<div>\n",
       "<style scoped>\n",
       "    .dataframe tbody tr th:only-of-type {\n",
       "        vertical-align: middle;\n",
       "    }\n",
       "\n",
       "    .dataframe tbody tr th {\n",
       "        vertical-align: top;\n",
       "    }\n",
       "\n",
       "    .dataframe thead th {\n",
       "        text-align: right;\n",
       "    }\n",
       "</style>\n",
       "<table border=\"1\" class=\"dataframe\">\n",
       "  <thead>\n",
       "    <tr style=\"text-align: right;\">\n",
       "      <th></th>\n",
       "      <th>Duracao</th>\n",
       "      <th>HistoricoCredito</th>\n",
       "      <th>Proposito</th>\n",
       "      <th>Valor</th>\n",
       "      <th>Investimentos</th>\n",
       "      <th>Emprego</th>\n",
       "      <th>TempoParcelamento</th>\n",
       "      <th>EstadoCivil</th>\n",
       "      <th>FiadorTerceiros</th>\n",
       "      <th>ResidenciaDesde</th>\n",
       "      <th>Idade</th>\n",
       "      <th>OutrosFinanciamentos</th>\n",
       "      <th>Habitacao</th>\n",
       "      <th>EmprestimoExistente</th>\n",
       "      <th>Profissao</th>\n",
       "      <th>Dependentes</th>\n",
       "      <th>SocioEmpresa</th>\n",
       "      <th>Estrangeiro</th>\n",
       "      <th>Status</th>\n",
       "    </tr>\n",
       "  </thead>\n",
       "  <tbody>\n",
       "    <tr>\n",
       "      <th>0</th>\n",
       "      <td>48</td>\n",
       "      <td>2</td>\n",
       "      <td>1</td>\n",
       "      <td>5951</td>\n",
       "      <td>2</td>\n",
       "      <td>3</td>\n",
       "      <td>2</td>\n",
       "      <td>1</td>\n",
       "      <td>3</td>\n",
       "      <td>2</td>\n",
       "      <td>22</td>\n",
       "      <td>3</td>\n",
       "      <td>1</td>\n",
       "      <td>1</td>\n",
       "      <td>4</td>\n",
       "      <td>1</td>\n",
       "      <td>0</td>\n",
       "      <td>0</td>\n",
       "      <td>0</td>\n",
       "    </tr>\n",
       "    <tr>\n",
       "      <th>1</th>\n",
       "      <td>12</td>\n",
       "      <td>1</td>\n",
       "      <td>2</td>\n",
       "      <td>2096</td>\n",
       "      <td>2</td>\n",
       "      <td>4</td>\n",
       "      <td>2</td>\n",
       "      <td>4</td>\n",
       "      <td>3</td>\n",
       "      <td>3</td>\n",
       "      <td>49</td>\n",
       "      <td>3</td>\n",
       "      <td>1</td>\n",
       "      <td>1</td>\n",
       "      <td>3</td>\n",
       "      <td>2</td>\n",
       "      <td>0</td>\n",
       "      <td>0</td>\n",
       "      <td>1</td>\n",
       "    </tr>\n",
       "    <tr>\n",
       "      <th>2</th>\n",
       "      <td>42</td>\n",
       "      <td>2</td>\n",
       "      <td>3</td>\n",
       "      <td>7882</td>\n",
       "      <td>2</td>\n",
       "      <td>4</td>\n",
       "      <td>2</td>\n",
       "      <td>4</td>\n",
       "      <td>4</td>\n",
       "      <td>4</td>\n",
       "      <td>45</td>\n",
       "      <td>3</td>\n",
       "      <td>2</td>\n",
       "      <td>1</td>\n",
       "      <td>4</td>\n",
       "      <td>2</td>\n",
       "      <td>0</td>\n",
       "      <td>0</td>\n",
       "      <td>1</td>\n",
       "    </tr>\n",
       "    <tr>\n",
       "      <th>3</th>\n",
       "      <td>24</td>\n",
       "      <td>3</td>\n",
       "      <td>4</td>\n",
       "      <td>4870</td>\n",
       "      <td>2</td>\n",
       "      <td>3</td>\n",
       "      <td>3</td>\n",
       "      <td>4</td>\n",
       "      <td>3</td>\n",
       "      <td>4</td>\n",
       "      <td>53</td>\n",
       "      <td>3</td>\n",
       "      <td>2</td>\n",
       "      <td>2</td>\n",
       "      <td>4</td>\n",
       "      <td>2</td>\n",
       "      <td>0</td>\n",
       "      <td>0</td>\n",
       "      <td>0</td>\n",
       "    </tr>\n",
       "    <tr>\n",
       "      <th>4</th>\n",
       "      <td>36</td>\n",
       "      <td>2</td>\n",
       "      <td>2</td>\n",
       "      <td>9055</td>\n",
       "      <td>1</td>\n",
       "      <td>3</td>\n",
       "      <td>2</td>\n",
       "      <td>4</td>\n",
       "      <td>3</td>\n",
       "      <td>4</td>\n",
       "      <td>35</td>\n",
       "      <td>3</td>\n",
       "      <td>2</td>\n",
       "      <td>1</td>\n",
       "      <td>3</td>\n",
       "      <td>2</td>\n",
       "      <td>1</td>\n",
       "      <td>0</td>\n",
       "      <td>1</td>\n",
       "    </tr>\n",
       "  </tbody>\n",
       "</table>\n",
       "</div>"
      ],
      "text/plain": [
       "   Duracao  HistoricoCredito  Proposito  Valor  Investimentos  Emprego  \\\n",
       "0       48                 2          1   5951              2        3   \n",
       "1       12                 1          2   2096              2        4   \n",
       "2       42                 2          3   7882              2        4   \n",
       "3       24                 3          4   4870              2        3   \n",
       "4       36                 2          2   9055              1        3   \n",
       "\n",
       "   TempoParcelamento  EstadoCivil  FiadorTerceiros  ResidenciaDesde  Idade  \\\n",
       "0                  2            1                3                2     22   \n",
       "1                  2            4                3                3     49   \n",
       "2                  2            4                4                4     45   \n",
       "3                  3            4                3                4     53   \n",
       "4                  2            4                3                4     35   \n",
       "\n",
       "   OutrosFinanciamentos  Habitacao  EmprestimoExistente  Profissao  \\\n",
       "0                     3          1                    1          4   \n",
       "1                     3          1                    1          3   \n",
       "2                     3          2                    1          4   \n",
       "3                     3          2                    2          4   \n",
       "4                     3          2                    1          3   \n",
       "\n",
       "   Dependentes  SocioEmpresa  Estrangeiro  Status  \n",
       "0            1             0            0       0  \n",
       "1            2             0            0       1  \n",
       "2            2             0            0       1  \n",
       "3            2             0            0       0  \n",
       "4            2             1            0       1  "
      ]
     },
     "execution_count": 2,
     "metadata": {},
     "output_type": "execute_result"
    }
   ],
   "source": [
    "credito_df = pd.read_parquet('datasets/credito.parquet')\n",
    "credito_df.head()"
   ]
  },
  {
   "cell_type": "code",
   "execution_count": 3,
   "id": "40f03f17",
   "metadata": {},
   "outputs": [
    {
     "data": {
      "text/plain": [
       "(1000, 19)"
      ]
     },
     "execution_count": 3,
     "metadata": {},
     "output_type": "execute_result"
    }
   ],
   "source": [
    "credito_df.shape"
   ]
  },
  {
   "cell_type": "code",
   "execution_count": 9,
   "id": "9cf26e0f",
   "metadata": {},
   "outputs": [
    {
     "data": {
      "image/png": "[encoded data removed]",
      "text/plain": [
       "<Figure size 640x480 with 1 Axes>"
      ]
     },
     "metadata": {},
     "output_type": "display_data"
    }
   ],
   "source": [
    "plt.pie(credito_df['Status'].value_counts(), labels=credito_df['Status'].value_counts().index)\n",
    "plt.title('Distribuição de Créditos')\n",
    "plt.show()"
   ]
  },
  {
   "cell_type": "code",
   "execution_count": 18,
   "id": "e8c4d6f2",
   "metadata": {},
   "outputs": [
    {
     "data": {
      "text/plain": [
       "<Axes: xlabel='Duracao', ylabel='Count'>"
      ]
     },
     "execution_count": 18,
     "metadata": {},
     "output_type": "execute_result"
    },
    {
     "data": {
      "image/png": "[encoded data removed]",
      "text/plain": [
       "<Figure size 640x480 with 1 Axes>"
      ]
     },
     "metadata": {},
     "output_type": "display_data"
    }
   ],
   "source": [
    "sns.histplot(credito_df['Duracao'],kde=True, bins=10)"
   ]
  },
  {
   "cell_type": "code",
   "execution_count": 20,
   "id": "1e2816a0",
   "metadata": {},
   "outputs": [
    {
     "data": {
      "image/png": "[encoded data removed]",
      "text/plain": [
       "<Figure size 640x480 with 1 Axes>"
      ]
     },
     "metadata": {},
     "output_type": "display_data"
    }
   ],
   "source": [
    "sns.histplot(credito_df['Valor'], kde=True, bins=30)\n",
    "plt.title('Distribuição de Valores de Empréstimo')\n",
    "plt.show()"
   ]
  },
  {
   "cell_type": "code",
   "execution_count": null,
   "id": "b32cfde5",
   "metadata": {},
   "outputs": [],
   "source": []
  }
 ],
 "metadata": {
  "kernelspec": {
   "display_name": "Python 3",
   "language": "python",
   "name": "python3"
  },
  "language_info": {
   "codemirror_mode": {
    "name": "ipython",
    "version": 3
   },
   "file_extension": ".py",
   "mimetype": "text/x-python",
   "name": "python",
   "nbconvert_exporter": "python",
   "pygments_lexer": "ipython3",
   "version": "3.11.9"
  }
 },
 "nbformat": 4,
 "nbformat_minor": 5
}
